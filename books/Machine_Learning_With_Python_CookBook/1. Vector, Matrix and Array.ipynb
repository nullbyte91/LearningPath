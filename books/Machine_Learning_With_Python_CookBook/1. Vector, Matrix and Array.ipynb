{
 "cells": [
  {
   "cell_type": "markdown",
   "metadata": {},
   "source": [
    "# 1.1 Create a Vector"
   ]
  },
  {
   "cell_type": "code",
   "execution_count": 3,
   "metadata": {},
   "outputs": [],
   "source": [
    "# Load a Lib\n",
    "import numpy as np\n",
    "\n",
    "# Create a vector as a row\n",
    "vector_row = np.array([1, 2, 3])\n",
    "\n",
    "# Create a vector as a column\n",
    "vector_column = np.array([[1],\n",
    "                         [2],\n",
    "                         [3]])"
   ]
  },
  {
   "cell_type": "markdown",
   "metadata": {},
   "source": [
    "# 1.2 Create a Matrix"
   ]
  },
  {
   "cell_type": "code",
   "execution_count": 4,
   "metadata": {},
   "outputs": [
    {
     "data": {
      "text/plain": [
       "(2, 3)"
      ]
     },
     "execution_count": 4,
     "metadata": {},
     "output_type": "execute_result"
    }
   ],
   "source": [
    "# Load a Lib\n",
    "import numpy as np\n",
    "\n",
    "# Creating a 2,3 Matrix\n",
    "matrix = np.array([[1, 2, 3],\n",
    "                   [4, 5, 6]])\n",
    "matrix.shape"
   ]
  },
  {
   "cell_type": "markdown",
   "metadata": {},
   "source": [
    "# 1.3 Create a Sparse Matrix"
   ]
  },
  {
   "cell_type": "code",
   "execution_count": 16,
   "metadata": {},
   "outputs": [
    {
     "name": "stdout",
     "output_type": "stream",
     "text": [
      "  (0, 0)\t6\n",
      "  (0, 2)\t1\n",
      "  (1, 1)\t7\n",
      "  (2, 2)\t8\n"
     ]
    }
   ],
   "source": [
    "# Load a Lib\n",
    "import numpy as np\n",
    "from scipy import sparse\n",
    "\n",
    "# Create a matrix\n",
    "matrix = ([[6, 0, 1],\n",
    "           [0, 7, 0],\n",
    "           [0, 0, 8]])\n",
    "\n",
    "# Create a compressed Sparse row(CSR) Matrix\n",
    "matrix_sparce = sparse.csr_matrix(matrix)\n",
    "\n",
    "print(matrix_sparce)"
   ]
  },
  {
   "cell_type": "markdown",
   "metadata": {},
   "source": [
    "# 1.4 Select Elements"
   ]
  },
  {
   "cell_type": "code",
   "execution_count": 37,
   "metadata": {},
   "outputs": [
    {
     "name": "stdout",
     "output_type": "stream",
     "text": [
      "3rd Element: 3\n",
      "2nd Row 1st Element: 4\n",
      "Select all the vector elements: [1 2 3 4 5 6]\n",
      "Select first three vector elements: [1 2 3]\n",
      "Select last three vector elements: [4 5 6]\n",
      "Select last vector element with negative index: 6\n",
      "Select only first row of the matrix: [[1 2 3]]\n",
      "Select only First column of the matrix: [[1]\n",
      " [4]\n",
      " [7]]\n"
     ]
    }
   ],
   "source": [
    "# Load a Lib\n",
    "import numpy as np\n",
    "\n",
    "# Create a row vector\n",
    "vector = np.array([1, 2, 3, 4, 5, 6])\n",
    "\n",
    "print('3rd Element:', vector[2])\n",
    "\n",
    "# Create a Matrix\n",
    "matrix = np.array([[1, 2, 3],\n",
    "                   [4, 5, 6],\n",
    "                   [7, 8, 9]])\n",
    "\n",
    "print('2nd Row 1st Element:', matrix[1,0])\n",
    "\n",
    "# Select all the vector elements\n",
    "print('Select all the vector elements:', vector[:])\n",
    "\n",
    "# Select first three vector elements\n",
    "print('Select first three vector elements:', vector[:3])\n",
    "\n",
    "# Select last three vector elements\n",
    "print('Select last three vector elements:', vector[3:])\n",
    "\n",
    "# Select last vector element with negative index\n",
    "print('Select last vector element with negative index:', vector[-1])\n",
    "\n",
    "# Select only first row of the matrix\n",
    "print('Select only first row of the matrix:', matrix[:1,:])\n",
    "\n",
    "# Select only First column of the matrix\n",
    "print('Select only First column of the matrix:', matrix[:, :1])"
   ]
  },
  {
   "cell_type": "markdown",
   "metadata": {},
   "source": [
    "# 1.5 Describe a Matrix"
   ]
  },
  {
   "cell_type": "code",
   "execution_count": 43,
   "metadata": {},
   "outputs": [
    {
     "name": "stdout",
     "output_type": "stream",
     "text": [
      "matrix Shape:  (2, 3)\n",
      "Number of elements: 6\n",
      "Dimension of the matrix: 2\n"
     ]
    }
   ],
   "source": [
    "# Load a Lib\n",
    "import numpy as np\n",
    "\n",
    "# Create a matrix\n",
    "matrix = np.array([[1, 2, 3],\n",
    "                  [4, 5, 6]])\n",
    "\n",
    "# Shape of the Matrix\n",
    "print('matrix Shape: ', matrix.shape)\n",
    "\n",
    "# Number of elements in the matrix(row * columns)\n",
    "print('Number of elements:', matrix.size)\n",
    "\n",
    "# Dimension of the matrix\n",
    "print('Dimension of the matrix:', matrix.ndim)"
   ]
  },
  {
   "cell_type": "markdown",
   "metadata": {},
   "source": [
    "# 1.6 Applying Operations to Elements"
   ]
  },
  {
   "cell_type": "code",
   "execution_count": 48,
   "metadata": {},
   "outputs": [
    {
     "name": "stdout",
     "output_type": "stream",
     "text": [
      "[[101 102 103]\n",
      " [104 105 106]\n",
      " [107 108 109]]\n",
      "[[101 102 103]\n",
      " [104 105 106]\n",
      " [107 108 109]]\n"
     ]
    }
   ],
   "source": [
    "# Load a lib\n",
    "import numpy as np\n",
    "\n",
    "# Create a Matrix \n",
    "matrix = np.array([[1, 2, 3],\n",
    "                   [4, 5, 6],\n",
    "                   [7, 8, 9]])\n",
    "\n",
    "# Create a lambda function\n",
    "add_100 = lambda i: i + 100\n",
    "\n",
    "# create a vectorized function\n",
    "vectorized_100function = np.vectorize(add_100)\n",
    "\n",
    "# Apply this function on Matrix\n",
    "print(vectorized_100function(matrix))\n",
    "\n",
    "\n",
    "# Other way of doing\n",
    "# Create a Matrix \n",
    "matrix = np.array([[1, 2, 3],\n",
    "                   [4, 5, 6],\n",
    "                   [7, 8, 9]])\n",
    "\n",
    "print(matrix + 100)"
   ]
  },
  {
   "cell_type": "markdown",
   "metadata": {},
   "source": [
    "# 1.7 Finding the Max and Min values"
   ]
  },
  {
   "cell_type": "code",
   "execution_count": 55,
   "metadata": {},
   "outputs": [
    {
     "name": "stdout",
     "output_type": "stream",
     "text": [
      "Max ele in Array 9\n",
      "Min ele in Array 1\n",
      "Subset Max: [7 8 9]\n",
      "Subset Min: [3 6 9]\n"
     ]
    }
   ],
   "source": [
    "# Load a lib\n",
    "import numpy as np\n",
    "\n",
    "# Create a matrix \n",
    "matrix = np.array([[1, 2, 3],\n",
    "                  [4, 5, 6],\n",
    "                  [7, 8, 9]])\n",
    "\n",
    "# Find a max and min\n",
    "print('Max ele in Array', np.max(matrix))\n",
    "print('Min ele in Array', np.min(matrix))\n",
    "\n",
    "\n",
    "# Find a max and min in subset\n",
    "print('Subset Max:', np.max(matrix, axis=0))\n",
    "print('Subset Min:', np.max(matrix, axis=1))"
   ]
  },
  {
   "cell_type": "code",
   "execution_count": 60,
   "metadata": {},
   "outputs": [
    {
     "name": "stdout",
     "output_type": "stream",
     "text": [
      "Mean: 5.0\n",
      "Variance: 6.666666666666667\n",
      "Standard Deviation: 2.581988897471611\n",
      "Mean in each column [4. 5. 6.]\n"
     ]
    }
   ],
   "source": [
    "# 1.8 Calculate Avg, Variance and Standard Deviation\n",
    "# Load a lib\n",
    "import numpy as np\n",
    "\n",
    "# Create a Matrix\n",
    "matrix = np.array([[1, 2, 3],\n",
    "                   [4, 5, 6],\n",
    "                   [7, 8, 9]])\n",
    "\n",
    "print('Mean:', np.mean(matrix))\n",
    "print('Variance:', np.var(matrix))\n",
    "print('Standard Deviation:', np.std(matrix))\n",
    "\n",
    "print('Mean in each column', np.mean(matrix, axis=0))"
   ]
  },
  {
   "cell_type": "code",
   "execution_count": null,
   "metadata": {},
   "outputs": [],
   "source": []
  }
 ],
 "metadata": {
  "kernelspec": {
   "display_name": "Python 3",
   "language": "python",
   "name": "python3"
  },
  "language_info": {
   "codemirror_mode": {
    "name": "ipython",
    "version": 3
   },
   "file_extension": ".py",
   "mimetype": "text/x-python",
   "name": "python",
   "nbconvert_exporter": "python",
   "pygments_lexer": "ipython3",
   "version": "3.6.8"
  }
 },
 "nbformat": 4,
 "nbformat_minor": 2
}
