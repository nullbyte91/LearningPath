{
 "cells": [
  {
   "cell_type": "markdown",
   "metadata": {},
   "source": [
    "# 1.1 Create a Vector"
   ]
  },
  {
   "cell_type": "code",
   "execution_count": 1,
   "metadata": {},
   "outputs": [],
   "source": [
    "# Load a Lib\n",
    "import numpy as np\n",
    "\n",
    "# Create a vector as a row\n",
    "vector_row = np.array([1, 2, 3])\n",
    "\n",
    "# Create a vector as a column\n",
    "vector_column = np.array([[1],\n",
    "                         [2],\n",
    "                         [3]])"
   ]
  },
  {
   "cell_type": "markdown",
   "metadata": {},
   "source": [
    "# 1.2 Create a Matrix"
   ]
  },
  {
   "cell_type": "code",
   "execution_count": 2,
   "metadata": {},
   "outputs": [
    {
     "data": {
      "text/plain": [
       "(2, 3)"
      ]
     },
     "execution_count": 2,
     "metadata": {},
     "output_type": "execute_result"
    }
   ],
   "source": [
    "# Load a Lib\n",
    "import numpy as np\n",
    "\n",
    "# Creating a 2,3 Matrix\n",
    "matrix = np.array([[1, 2, 3],\n",
    "                   [4, 5, 6]])\n",
    "matrix.shape"
   ]
  },
  {
   "cell_type": "markdown",
   "metadata": {},
   "source": [
    "# 1.3 Create a Sparse Matrix"
   ]
  },
  {
   "cell_type": "code",
   "execution_count": 3,
   "metadata": {},
   "outputs": [
    {
     "name": "stdout",
     "output_type": "stream",
     "text": [
      "  (0, 0)\t6\n",
      "  (0, 2)\t1\n",
      "  (1, 1)\t7\n",
      "  (2, 2)\t8\n"
     ]
    }
   ],
   "source": [
    "# Load a Lib\n",
    "import numpy as np\n",
    "from scipy import sparse\n",
    "\n",
    "# Create a matrix\n",
    "matrix = ([[6, 0, 1],\n",
    "           [0, 7, 0],\n",
    "           [0, 0, 8]])\n",
    "\n",
    "# Create a compressed Sparse row(CSR) Matrix\n",
    "matrix_sparce = sparse.csr_matrix(matrix)\n",
    "\n",
    "print(matrix_sparce)"
   ]
  },
  {
   "cell_type": "markdown",
   "metadata": {},
   "source": [
    "# 1.4 Select Elements"
   ]
  },
  {
   "cell_type": "code",
   "execution_count": 4,
   "metadata": {},
   "outputs": [
    {
     "name": "stdout",
     "output_type": "stream",
     "text": [
      "3rd Element: 3\n",
      "2nd Row 1st Element: 4\n",
      "Select all the vector elements: [1 2 3 4 5 6]\n",
      "Select first three vector elements: [1 2 3]\n",
      "Select last three vector elements: [4 5 6]\n",
      "Select last vector element with negative index: 6\n",
      "Select only first row of the matrix: [[1 2 3]]\n",
      "Select only First column of the matrix: [[1]\n",
      " [4]\n",
      " [7]]\n"
     ]
    }
   ],
   "source": [
    "# Load a Lib\n",
    "import numpy as np\n",
    "\n",
    "# Create a row vector\n",
    "vector = np.array([1, 2, 3, 4, 5, 6])\n",
    "\n",
    "print('3rd Element:', vector[2])\n",
    "\n",
    "# Create a Matrix\n",
    "matrix = np.array([[1, 2, 3],\n",
    "                   [4, 5, 6],\n",
    "                   [7, 8, 9]])\n",
    "\n",
    "print('2nd Row 1st Element:', matrix[1,0])\n",
    "\n",
    "# Select all the vector elements\n",
    "print('Select all the vector elements:', vector[:])\n",
    "\n",
    "# Select first three vector elements\n",
    "print('Select first three vector elements:', vector[:3])\n",
    "\n",
    "# Select last three vector elements\n",
    "print('Select last three vector elements:', vector[3:])\n",
    "\n",
    "# Select last vector element with negative index\n",
    "print('Select last vector element with negative index:', vector[-1])\n",
    "\n",
    "# Select only first row of the matrix\n",
    "print('Select only first row of the matrix:', matrix[:1,:])\n",
    "\n",
    "# Select only First column of the matrix\n",
    "print('Select only First column of the matrix:', matrix[:, :1])"
   ]
  },
  {
   "cell_type": "markdown",
   "metadata": {},
   "source": [
    "# 1.5 Describe a Matrix"
   ]
  },
  {
   "cell_type": "code",
   "execution_count": 5,
   "metadata": {},
   "outputs": [
    {
     "name": "stdout",
     "output_type": "stream",
     "text": [
      "matrix Shape:  (2, 3)\n",
      "Number of elements: 6\n",
      "Dimension of the matrix: 2\n"
     ]
    }
   ],
   "source": [
    "# Load a Lib\n",
    "import numpy as np\n",
    "\n",
    "# Create a matrix\n",
    "matrix = np.array([[1, 2, 3],\n",
    "                  [4, 5, 6]])\n",
    "\n",
    "# Shape of the Matrix\n",
    "print('matrix Shape: ', matrix.shape)\n",
    "\n",
    "# Number of elements in the matrix(row * columns)\n",
    "print('Number of elements:', matrix.size)\n",
    "\n",
    "# Dimension of the matrix\n",
    "print('Dimension of the matrix:', matrix.ndim)"
   ]
  },
  {
   "cell_type": "markdown",
   "metadata": {},
   "source": [
    "# 1.6 Applying Operations to Elements"
   ]
  },
  {
   "cell_type": "code",
   "execution_count": 6,
   "metadata": {},
   "outputs": [
    {
     "name": "stdout",
     "output_type": "stream",
     "text": [
      "[[101 102 103]\n",
      " [104 105 106]\n",
      " [107 108 109]]\n",
      "[[101 102 103]\n",
      " [104 105 106]\n",
      " [107 108 109]]\n"
     ]
    }
   ],
   "source": [
    "# Load a lib\n",
    "import numpy as np\n",
    "\n",
    "# Create a Matrix \n",
    "matrix = np.array([[1, 2, 3],\n",
    "                   [4, 5, 6],\n",
    "                   [7, 8, 9]])\n",
    "\n",
    "# Create a lambda function\n",
    "add_100 = lambda i: i + 100\n",
    "\n",
    "# create a vectorized function\n",
    "vectorized_100function = np.vectorize(add_100)\n",
    "\n",
    "# Apply this function on Matrix\n",
    "print(vectorized_100function(matrix))\n",
    "\n",
    "\n",
    "# Other way of doing\n",
    "# Create a Matrix \n",
    "matrix = np.array([[1, 2, 3],\n",
    "                   [4, 5, 6],\n",
    "                   [7, 8, 9]])\n",
    "\n",
    "print(matrix + 100)"
   ]
  },
  {
   "cell_type": "markdown",
   "metadata": {},
   "source": [
    "# 1.7 Finding the Max and Min values"
   ]
  },
  {
   "cell_type": "code",
   "execution_count": 7,
   "metadata": {},
   "outputs": [
    {
     "name": "stdout",
     "output_type": "stream",
     "text": [
      "Max ele in Array 9\n",
      "Min ele in Array 1\n",
      "Subset Max: [7 8 9]\n",
      "Subset Min: [3 6 9]\n"
     ]
    }
   ],
   "source": [
    "# Load a lib\n",
    "import numpy as np\n",
    "\n",
    "# Create a matrix \n",
    "matrix = np.array([[1, 2, 3],\n",
    "                  [4, 5, 6],\n",
    "                  [7, 8, 9]])\n",
    "\n",
    "# Find a max and min\n",
    "print('Max ele in Array', np.max(matrix))\n",
    "print('Min ele in Array', np.min(matrix))\n",
    "\n",
    "\n",
    "# Find a max and min in subset\n",
    "print('Subset Max:', np.max(matrix, axis=0))\n",
    "print('Subset Min:', np.max(matrix, axis=1))"
   ]
  },
  {
   "cell_type": "markdown",
   "metadata": {},
   "source": [
    "# 1.8 Calculate Avg, Variance and Standard Deviation"
   ]
  },
  {
   "cell_type": "code",
   "execution_count": 8,
   "metadata": {},
   "outputs": [
    {
     "name": "stdout",
     "output_type": "stream",
     "text": [
      "Mean: 5.0\n",
      "Variance: 6.666666666666667\n",
      "Standard Deviation: 2.581988897471611\n",
      "Mean in each column [4. 5. 6.]\n"
     ]
    }
   ],
   "source": [
    "# Load a lib\n",
    "import numpy as np\n",
    "\n",
    "# Create a Matrix\n",
    "matrix = np.array([[1, 2, 3],\n",
    "                   [4, 5, 6],\n",
    "                   [7, 8, 9]])\n",
    "\n",
    "print('Mean:', np.mean(matrix))\n",
    "print('Variance:', np.var(matrix))\n",
    "print('Standard Deviation:', np.std(matrix))\n",
    "\n",
    "print('Mean in each column', np.mean(matrix, axis=0))"
   ]
  },
  {
   "cell_type": "markdown",
   "metadata": {},
   "source": [
    "# 1.9 Reshape Array "
   ]
  },
  {
   "cell_type": "code",
   "execution_count": 9,
   "metadata": {},
   "outputs": [
    {
     "name": "stdout",
     "output_type": "stream",
     "text": [
      "Matrix Shpe: (3, 4)\n",
      "Matrix shape: (2, 6)\n"
     ]
    }
   ],
   "source": [
    "# Load a Lib\n",
    "import numpy as np\n",
    "\n",
    "# Create a 3*4 Matrix\n",
    "matrix = np.array([[1, 2, 3, 4],\n",
    "                   [5, 6, 7, 8],\n",
    "                   [9, 10, 11, 12]])\n",
    "\n",
    "# Matrix Shape\n",
    "print('Matrix Shpe:', matrix.shape)\n",
    "\n",
    "# Reshape the Matrix \n",
    "matrix = matrix.reshape(2, 6)\n",
    "\n",
    "# Matrix Shape after reshape\n",
    "print('Matrix shape:', matrix.shape)\n",
    "\n",
    "# Create a 3*4 Matrix\n",
    "matrix = np.array([[1, 2, 3, 4],\n",
    "                   [5, 6, 7, 8],\n",
    "                   [9, 10, 11, 12]])\n",
    "\n",
    "matrix = matrix.reshape(1, -1)"
   ]
  },
  {
   "cell_type": "markdown",
   "metadata": {},
   "source": [
    "# 1.10 Transposing a Vector or Matrix"
   ]
  },
  {
   "cell_type": "code",
   "execution_count": 11,
   "metadata": {},
   "outputs": [
    {
     "name": "stdout",
     "output_type": "stream",
     "text": [
      "[[1 4 7]\n",
      " [2 5 8]\n",
      " [3 6 9]]\n"
     ]
    }
   ],
   "source": [
    "# Load a Lib\n",
    "import numpy as np\n",
    "\n",
    "# Create a Matrix\n",
    "matrix = np.array([[1, 2, 3],\n",
    "                   [4, 5, 6],\n",
    "                   [7, 8, 9]])\n",
    "\n",
    "# Transpose Matrix\n",
    "print(matrix.T)"
   ]
  },
  {
   "cell_type": "markdown",
   "metadata": {},
   "source": [
    "# 1.11 Flattening a Matrix"
   ]
  },
  {
   "cell_type": "code",
   "execution_count": 14,
   "metadata": {},
   "outputs": [
    {
     "name": "stdout",
     "output_type": "stream",
     "text": [
      "Using Flatten method:  [1 2 3 4 5 6 7 8 9]\n",
      "Using reshape method:  [[1 2 3 4 5 6 7 8 9]]\n"
     ]
    }
   ],
   "source": [
    "# Load a Lib\n",
    "import numpy as np\n",
    "\n",
    "# Create a Matrix\n",
    "matrix = np.array([[1, 2, 3],\n",
    "                   [4, 5, 6],\n",
    "                   [7, 8, 9]])\n",
    "\n",
    "# Flattening a Matrix\n",
    "print('Using Flatten method: ',matrix.flatten())\n",
    "\n",
    "# Second method to do that\n",
    "print('Using reshape method: ',matrix.reshape(1, -1))"
   ]
  },
  {
   "cell_type": "markdown",
   "metadata": {},
   "source": [
    "# 1.12 Rank of Matrix"
   ]
  },
  {
   "cell_type": "code",
   "execution_count": 17,
   "metadata": {},
   "outputs": [
    {
     "name": "stdout",
     "output_type": "stream",
     "text": [
      "Rank of Matrix:  2\n"
     ]
    }
   ],
   "source": [
    "# Load a Lib\n",
    "import numpy as np\n",
    "\n",
    "# Create a Matrix\n",
    "matrix = np.array([[1, 2, 3],\n",
    "                   [4, 5, 6],\n",
    "                   [7, 8, 9]])\n",
    "\n",
    "# Find a Rank of Matrix\n",
    "print('Rank of Matrix: ', np.linalg.matrix_rank(matrix))"
   ]
  },
  {
   "cell_type": "markdown",
   "metadata": {},
   "source": [
    "# 1.13 Find a determinant of Matrix"
   ]
  },
  {
   "cell_type": "code",
   "execution_count": 23,
   "metadata": {},
   "outputs": [
    {
     "name": "stdout",
     "output_type": "stream",
     "text": [
      "Determinant of Matrix:  0.0\n"
     ]
    }
   ],
   "source": [
    "# Load a Lib\n",
    "import numpy as np\n",
    "\n",
    "# Create a Matrix\n",
    "matrix = np.array([[1, 4, 7],\n",
    "                   [2, 5, 8],\n",
    "                   [3, 6, 9]])\n",
    "\n",
    "# Determinant of Matrix\n",
    "print('Determinant of Matrix: ', np.linalg.det(matrix))"
   ]
  },
  {
   "cell_type": "markdown",
   "metadata": {},
   "source": [
    "# 1.14 Diagonal of Matrix"
   ]
  },
  {
   "cell_type": "code",
   "execution_count": 27,
   "metadata": {},
   "outputs": [
    {
     "name": "stdout",
     "output_type": "stream",
     "text": [
      "Diagonal : [1 5 9]\n",
      "Diagonal : [4 8]\n",
      "Diagonal : [2 6]\n"
     ]
    }
   ],
   "source": [
    "# Load a Lib\n",
    "import numpy as np\n",
    "\n",
    "# Create a Matrix\n",
    "matrix = np.array([[1, 4, 7],\n",
    "                   [2, 5, 8],\n",
    "                   [3, 6, 9]])\n",
    "\n",
    "# Return Diagonal of Matrix\n",
    "print('Diagonal :', matrix.diagonal())\n",
    "\n",
    "# Return diagonal one above the main diagonal\n",
    "print('Diagonal :', matrix.diagonal(offset=1))\n",
    "\n",
    "# Return diagonal one below the main diagonal\n",
    "print('Diagonal :', matrix.diagonal(offset=-1))"
   ]
  },
  {
   "cell_type": "markdown",
   "metadata": {},
   "source": [
    "# 1.15 Trace of Matrix"
   ]
  },
  {
   "cell_type": "code",
   "execution_count": 29,
   "metadata": {},
   "outputs": [
    {
     "name": "stdout",
     "output_type": "stream",
     "text": [
      "Trace of Matrix using trace method:  15\n",
      "sum method:  15\n"
     ]
    }
   ],
   "source": [
    "# Load a lib\n",
    "import numpy as np\n",
    "\n",
    "# Create a Matrix\n",
    "matrix = np.array([[1, 4, 7],\n",
    "                   [2, 5, 8],\n",
    "                   [3, 6, 9]])\n",
    "\n",
    "# Return trace of matrix\n",
    "print('Trace of Matrix using trace method: ', matrix.trace())\n",
    "\n",
    "# Other method sum\n",
    "print('sum method: ', sum(matrix.diagonal()))"
   ]
  },
  {
   "cell_type": "markdown",
   "metadata": {},
   "source": [
    "# 1. 16 Eigen Values and Eigen Vectors"
   ]
  },
  {
   "cell_type": "code",
   "execution_count": 31,
   "metadata": {},
   "outputs": [
    {
     "name": "stdout",
     "output_type": "stream",
     "text": [
      "eigen value:  [ 1.61168440e+01 -1.11684397e+00 -1.57673427e-16]\n",
      "eigen_vector: [[-0.46454727 -0.88290596  0.40824829]\n",
      " [-0.57079553 -0.23952042 -0.81649658]\n",
      " [-0.67704379  0.40386512  0.40824829]]\n"
     ]
    }
   ],
   "source": [
    "# Load a lib\n",
    "import numpy as np\n",
    "\n",
    "# Create a Matrix\n",
    "matrix = np.array([[1, 4, 7],\n",
    "                   [2, 5, 8],\n",
    "                   [3, 6, 9]])\n",
    "\n",
    "eigen_value, eigen_vector = np.linalg.eig(matrix)\n",
    "\n",
    "print('eigen value: ', eigen_value);\n",
    "print('eigen_vector:', eigen_vector);"
   ]
  },
  {
   "cell_type": "markdown",
   "metadata": {},
   "source": [
    "# 1.17 Dot products"
   ]
  },
  {
   "cell_type": "code",
   "execution_count": 32,
   "metadata": {},
   "outputs": [
    {
     "data": {
      "text/plain": [
       "60"
      ]
     },
     "execution_count": 32,
     "metadata": {},
     "output_type": "execute_result"
    }
   ],
   "source": [
    "# Load a lib\n",
    "import numpy as np\n",
    "\n",
    "# Create two vectors\n",
    "vector_a= np.array([1, 2, 3, 4])\n",
    "vector_b = np.array([4, 5, 6, 7])\n",
    "\n",
    "# Calculate dot product\n",
    "np.dot(vector_a, vector_b)\n"
   ]
  },
  {
   "cell_type": "markdown",
   "metadata": {},
   "source": [
    "# 1.18 Add and Subtracting Matrix"
   ]
  },
  {
   "cell_type": "code",
   "execution_count": 33,
   "metadata": {},
   "outputs": [
    {
     "name": "stdout",
     "output_type": "stream",
     "text": [
      "Addition:  [[ 2  4  6]\n",
      " [ 8 10 12]\n",
      " [14 16 18]]\n",
      "sub:  [[0 0 0]\n",
      " [0 0 0]\n",
      " [0 0 0]]\n"
     ]
    }
   ],
   "source": [
    "# Load a lib\n",
    "import numpy as np\n",
    "\n",
    "# create two matrix\n",
    "matrix_a = np.array([[1, 2, 3],\n",
    "                     [4, 5, 6],\n",
    "                     [7, 8, 9]])\n",
    "\n",
    "matrix_b = np.array([[1, 2, 3],\n",
    "                     [4, 5, 6], \n",
    "                     [7, 8, 9]])\n",
    "\n",
    "# Add two matrix\n",
    "print('Addition: ', np.add(matrix_a, matrix_b))\n",
    "\n",
    "# Sub two matrix\n",
    "print('sub: ', np.subtract(matrix_a, matrix_b))"
   ]
  },
  {
   "cell_type": "markdown",
   "metadata": {},
   "source": [
    "# 1.19 Multiply Matrix"
   ]
  },
  {
   "cell_type": "code",
   "execution_count": 37,
   "metadata": {},
   "outputs": [
    {
     "name": "stdout",
     "output_type": "stream",
     "text": [
      "Multiply Matrix \n",
      " [[ 30  36  42]\n",
      " [ 66  81  96]\n",
      " [102 126 150]]\n",
      "Elemenet wise Multiply \n",
      " [[ 1  4  9]\n",
      " [16 25 36]\n",
      " [49 64 81]]\n"
     ]
    }
   ],
   "source": [
    "# Load a lib\n",
    "import numpy as np\n",
    "\n",
    "# create two matrix\n",
    "matrix_a = np.array([[1, 2, 3],\n",
    "                     [4, 5, 6],\n",
    "                     [7, 8, 9]])\n",
    "\n",
    "matrix_b = np.array([[1, 2, 3],\n",
    "                     [4, 5, 6], \n",
    "                     [7, 8, 9]])\n",
    "\n",
    "# Dot matrox\n",
    "print('Multiply Matrix \\n', matrix_a @ matrix_b)\n",
    "\n",
    "# Element wise multiply\n",
    "print('Elemenet wise Multiply \\n', matrix_a * matrix_b)"
   ]
  },
  {
   "cell_type": "markdown",
   "metadata": {},
   "source": [
    "# 1.20 Inverting a Matrix"
   ]
  },
  {
   "cell_type": "code",
   "execution_count": 42,
   "metadata": {},
   "outputs": [
    {
     "name": "stdout",
     "output_type": "stream",
     "text": [
      "Matrix inversion \n",
      " [[-1.66666667  0.66666667]\n",
      " [ 1.33333333 -0.33333333]]\n"
     ]
    }
   ],
   "source": [
    "# Load a lib\n",
    "import numpy as np\n",
    "\n",
    "# create two matrix\n",
    "matrix_a = np.array([[1, 2],\n",
    "                     [4, 5]])\n",
    "\n",
    "# Return inverting a matrix\n",
    "print('Matrix inversion \\n', np.linalg.inv(matrix_a))"
   ]
  },
  {
   "cell_type": "markdown",
   "metadata": {},
   "source": [
    "# 1.21 Generating a Random Values"
   ]
  },
  {
   "cell_type": "code",
   "execution_count": 47,
   "metadata": {},
   "outputs": [
    {
     "name": "stdout",
     "output_type": "stream",
     "text": [
      "Random float value: \n",
      " [0.5488135  0.71518937 0.60276338]\n",
      "Normal distribution: \n",
      " [-2.2683282   1.33354538 -0.84272405]\n"
     ]
    }
   ],
   "source": [
    "# Load a lib\n",
    "import numpy as np\n",
    "\n",
    "# set a seed\n",
    "np.random.seed(0)\n",
    "\n",
    "# Generate three random floats between 0.0 and 1.0\n",
    "print('Random float value: \\n', np.random.random(3))\n",
    "\n",
    "# Generate three number from normal distribution with mean 0.0 and standard deviation of 1.0\n",
    "print('Normal distribution: \\n', np.random.normal(0.0, 1.0, 3))"
   ]
  },
  {
   "cell_type": "code",
   "execution_count": null,
   "metadata": {},
   "outputs": [],
   "source": []
  }
 ],
 "metadata": {
  "kernelspec": {
   "display_name": "Python 3",
   "language": "python",
   "name": "python3"
  },
  "language_info": {
   "codemirror_mode": {
    "name": "ipython",
    "version": 3
   },
   "file_extension": ".py",
   "mimetype": "text/x-python",
   "name": "python",
   "nbconvert_exporter": "python",
   "pygments_lexer": "ipython3",
   "version": "3.6.8"
  }
 },
 "nbformat": 4,
 "nbformat_minor": 2
}
